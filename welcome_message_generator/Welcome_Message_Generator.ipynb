{
  "nbformat": 4,
  "nbformat_minor": 0,
  "metadata": {
    "colab": {
      "provenance": []
    },
    "kernelspec": {
      "name": "python3",
      "display_name": "Python 3"
    },
    "language_info": {
      "name": "python"
    }
  },
  "cells": [
    {
      "cell_type": "code",
      "execution_count": null,
      "metadata": {
        "colab": {
          "base_uri": "https://localhost:8080/"
        },
        "id": "-hCyZ9mawjzu",
        "outputId": "1337f7d2-0219-4334-d0ba-5be0f84cc76d"
      },
      "outputs": [
        {
          "output_type": "stream",
          "name": "stdout",
          "text": [
            "Your message here\n"
          ]
        }
      ],
      "source": [
        "print(\"Hello, python world!\")"
      ]
    },
    {
      "cell_type": "code",
      "source": [
        "print(\"Thenumber is\",4)\n",
        "print(\"2+2=\",2+2)"
      ],
      "metadata": {
        "colab": {
          "base_uri": "https://localhost:8080/"
        },
        "id": "-sDbViESzEhM",
        "outputId": "f11ece7f-debb-48fc-9af2-93d910f36c97"
      },
      "execution_count": null,
      "outputs": [
        {
          "output_type": "stream",
          "name": "stdout",
          "text": [
            "Thenumber is 4\n",
            "2+2= 4\n"
          ]
        }
      ]
    },
    {
      "cell_type": "code",
      "source": [
        "name=\"Shubham\"\n",
        "print(f\"Hello, {name}! Welcome to python programming\")"
      ],
      "metadata": {
        "colab": {
          "base_uri": "https://localhost:8080/"
        },
        "id": "519QA9aXzbsT",
        "outputId": "6bb62efd-6fd1-4780-e19b-8cba00af7ebf"
      },
      "execution_count": null,
      "outputs": [
        {
          "output_type": "stream",
          "name": "stdout",
          "text": [
            "Hello, Shubham! Welcome to python programming\n"
          ]
        }
      ]
    },
    {
      "cell_type": "code",
      "source": [
        "userName= input(\"What is your name?\")\n",
        "print(f\"Hello, {userName} Welcome to python programming\")"
      ],
      "metadata": {
        "colab": {
          "base_uri": "https://localhost:8080/"
        },
        "id": "Q27hML1jz537",
        "outputId": "664ce213-6744-4d28-b094-461d124fbe3a"
      },
      "execution_count": null,
      "outputs": [
        {
          "output_type": "stream",
          "name": "stdout",
          "text": [
            "What is your name?bob\n",
            "Hello, bob Welcome to python programming\n"
          ]
        }
      ]
    },
    {
      "cell_type": "code",
      "source": [
        "# welcome message generator\n",
        "\n",
        "#Step 1:ask user details\n",
        "userName = input(\"What is your name? \")\n",
        "hobby = input(\"whats your favourite hobby? \")\n",
        "\n",
        "#Generate a personalised message\n",
        "print(\"\\n---- Welcome Message----\")\n",
        "print(f\"Hello,{name} \")\n",
        "print(f\"Welcome to the world of python programming.\")\n",
        "print(f\"Its great to know that you love {hobby}.\")\n",
        "print(\"Get ready to build something amazing today.\")\n"
      ],
      "metadata": {
        "colab": {
          "base_uri": "https://localhost:8080/"
        },
        "id": "Ecv_amGu0FKG",
        "outputId": "4f0cc94e-7691-4da9-e685-44d4992a0b71"
      },
      "execution_count": null,
      "outputs": [
        {
          "output_type": "stream",
          "name": "stdout",
          "text": [
            "What is your name? Shubham\n",
            "whats your favourite hobby? football\n",
            "\n",
            "---- Welcome Message----\n",
            "Hello,shubham \n",
            "Welcome to the world of python programming.\n",
            "Its great to know that you love football.\n",
            "Get ready to build something amazing today.\n"
          ]
        }
      ]
    }
  ]
}