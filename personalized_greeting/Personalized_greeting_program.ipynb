{
 "nbformat": 4,
 "nbformat_minor": 0,
 "metadata": {
  "colab": {
   "provenance": []
  },
  "kernelspec": {
   "name": "python3",
   "display_name": "Python 3"
  },
  "language_info": {
   "name": "python"
  }
 },
 "cells": [
  {
   "cell_type": "code",
   "source": [
    "#generalized greeting program\n",
    "\n",
    "#step1:ask for user details\n",
    "name=input(\"what is your name? \")\n",
    "age=int(input(\"what is your age? \"))\n",
    "color=input(\"what is your facourite color? \")\n",
    "\n",
    "#step2:Greet the user\n",
    "print(\"\\n ----Personalized Greeting\")\n",
    "print(f\"Hello,{name}!\")\n",
    "print(f\"you are {age} years old and {color} is your beautiful color!\")\n",
    "print(f\"You're now ready to start your python adventure\")"
   ],
   "metadata": {
    "colab": {
     "base_uri": "https://localhost:8080/"
    },
    "id": "RxEoRRRaGk5s",
    "outputId": "c748ea48-4c88-4555-9362-f594fdc04757",
    "jupyter": {
     "is_executing": true
    }
   },
   "outputs": [],
   "execution_count": null
  },
  {
   "cell_type": "code",
   "source": [],
   "metadata": {
    "id": "yWHZQtNXHecH"
   },
   "execution_count": null,
   "outputs": []
  }
 ]
}
